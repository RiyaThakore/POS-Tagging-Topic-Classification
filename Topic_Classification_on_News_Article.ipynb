{
  "nbformat": 4,
  "nbformat_minor": 0,
  "metadata": {
    "colab": {
      "name": "Topic Classification on News Article.ipynb",
      "provenance": [],
      "authorship_tag": "ABX9TyMflaWHZQ5MctAQY6hLN5lT",
      "include_colab_link": true
    },
    "kernelspec": {
      "name": "python3",
      "display_name": "Python 3"
    }
  },
  "cells": [
    {
      "cell_type": "markdown",
      "metadata": {
        "id": "view-in-github",
        "colab_type": "text"
      },
      "source": [
        "<a href=\"https://colab.research.google.com/github/RiyaThakore/POS-Tagging-Topic-Classification/blob/master/Topic_Classification_on_News_Article.ipynb\" target=\"_parent\"><img src=\"https://colab.research.google.com/assets/colab-badge.svg\" alt=\"Open In Colab\"/></a>"
      ]
    },
    {
      "cell_type": "markdown",
      "metadata": {
        "id": "ckDs3JrqCWQG",
        "colab_type": "text"
      },
      "source": [
        "Importing Libraries"
      ]
    },
    {
      "cell_type": "code",
      "metadata": {
        "id": "IRJHbM1xCVr4",
        "colab_type": "code",
        "colab": {}
      },
      "source": [
        "import keras_applications\n",
        "from keras.utils import to_categorical\n",
        "import numpy as np\n",
        "import pandas as pd\n",
        "from sklearn.model_selection import train_test_split\n",
        "from tqdm import tqdm\n",
        "from sklearn.naive_bayes import MultinomialNB\n",
        "from sklearn.model_selection import train_test_split\n",
        "from sklearn.feature_extraction.text import CountVectorizer\n",
        "from sklearn.preprocessing import LabelEncoder\n",
        "from sklearn.metrics import accuracy_score, recall_score, precision_score, f1_score"
      ],
      "execution_count": null,
      "outputs": []
    },
    {
      "cell_type": "markdown",
      "metadata": {
        "id": "XbHD2EvZCby2",
        "colab_type": "text"
      },
      "source": [
        "Load Data"
      ]
    },
    {
      "cell_type": "code",
      "metadata": {
        "id": "Xo5eRDp_CnEo",
        "colab_type": "code",
        "colab": {}
      },
      "source": [
        "train_dataset = pd.read_csv('/content/sample_data/BBCNewsTrain.csv')    \n",
        "test_dataset = pd.read_csv('/content/sample_data/BBCNewsTest.csv')\n",
        "train_dataset.columns()"
      ],
      "execution_count": null,
      "outputs": []
    },
    {
      "cell_type": "markdown",
      "metadata": {
        "id": "BNNGwaobCn_8",
        "colab_type": "text"
      },
      "source": [
        "Extract features and Train Multinomial Classifier"
      ]
    },
    {
      "cell_type": "code",
      "metadata": {
        "id": "w68ubAXs8uEj",
        "colab_type": "code",
        "colab": {
          "base_uri": "https://localhost:8080/",
          "height": 34
        },
        "outputId": "66ea2941-c1be-4749-9540-c2be7a68d090"
      },
      "source": [
        "\n",
        "vectorizer = CountVectorizer()\n",
        "x = vectorizer.fit_transform(train_dataset['Text'])\n",
        "encoder = LabelEncoder()\n",
        "y = encoder.fit_transform(train_dataset['Category'])\n",
        "x_train, x_test, y_train, y_test = train_test_split(x,y, test_size=0.2)\n",
        "nb = MultinomialNB()\n",
        "nb.fit(x_train, y_train)\n",
        "nb.score(x_test, y_test)"
      ],
      "execution_count": 4,
      "outputs": [
        {
          "output_type": "execute_result",
          "data": {
            "text/plain": [
              "0.9563758389261745"
            ]
          },
          "metadata": {
            "tags": []
          },
          "execution_count": 4
        }
      ]
    },
    {
      "cell_type": "code",
      "metadata": {
        "id": "cGzY81lL8x7u",
        "colab_type": "code",
        "colab": {
          "base_uri": "https://localhost:8080/",
          "height": 255
        },
        "outputId": "503c55cc-b2d9-47b1-d248-58bc1635cc42"
      },
      "source": [
        "predictions = nb.predict(x_test)\n",
        "predictions"
      ],
      "execution_count": 5,
      "outputs": [
        {
          "output_type": "execute_result",
          "data": {
            "text/plain": [
              "array([1, 0, 2, 1, 2, 3, 2, 1, 3, 3, 1, 0, 4, 3, 3, 0, 0, 0, 0, 3, 2, 2,\n",
              "       1, 2, 2, 3, 3, 3, 3, 0, 2, 1, 1, 2, 0, 1, 2, 2, 4, 3, 4, 3, 3, 4,\n",
              "       4, 2, 3, 2, 1, 0, 3, 3, 4, 1, 3, 0, 1, 4, 4, 3, 0, 1, 2, 3, 0, 3,\n",
              "       3, 1, 0, 0, 2, 2, 4, 0, 3, 4, 1, 1, 2, 3, 0, 2, 4, 2, 4, 1, 1, 2,\n",
              "       1, 0, 1, 3, 1, 0, 3, 2, 0, 0, 2, 4, 4, 4, 3, 4, 4, 0, 4, 3, 4, 0,\n",
              "       0, 1, 3, 4, 3, 0, 3, 2, 3, 0, 1, 4, 3, 0, 2, 3, 2, 0, 3, 2, 2, 0,\n",
              "       0, 1, 2, 0, 4, 2, 4, 1, 3, 4, 3, 4, 3, 1, 3, 0, 2, 0, 1, 2, 0, 1,\n",
              "       0, 2, 3, 2, 4, 4, 2, 0, 0, 2, 4, 4, 0, 2, 3, 0, 2, 3, 2, 2, 1, 2,\n",
              "       0, 2, 3, 3, 3, 2, 0, 3, 4, 4, 0, 1, 3, 0, 1, 4, 1, 0, 3, 1, 0, 0,\n",
              "       4, 3, 3, 1, 0, 1, 1, 3, 4, 3, 0, 1, 4, 4, 2, 0, 3, 3, 0, 2, 2, 3,\n",
              "       3, 1, 1, 2, 0, 3, 1, 4, 4, 0, 4, 1, 1, 2, 4, 0, 4, 0, 3, 4, 2, 3,\n",
              "       1, 2, 1, 1, 1, 3, 0, 0, 1, 2, 3, 3, 4, 0, 4, 4, 1, 1, 2, 0, 2, 2,\n",
              "       3, 2, 4, 2, 0, 0, 2, 3, 4, 0, 3, 0, 2, 3, 3, 1, 4, 3, 0, 1, 3, 0,\n",
              "       2, 1, 3, 2, 3, 4, 3, 3, 3, 4, 0, 0])"
            ]
          },
          "metadata": {
            "tags": []
          },
          "execution_count": 5
        }
      ]
    },
    {
      "cell_type": "markdown",
      "metadata": {
        "id": "ZZI-KD1kDGHs",
        "colab_type": "text"
      },
      "source": [
        "Evaluate results"
      ]
    },
    {
      "cell_type": "code",
      "metadata": {
        "id": "sTrod5EI9U2E",
        "colab_type": "code",
        "colab": {
          "base_uri": "https://localhost:8080/",
          "height": 85
        },
        "outputId": "3b91f77d-5718-46ac-a297-3d8cbeb6f80a"
      },
      "source": [
        "print(\"Accuracy score: \", accuracy_score(y_test, predictions))\n",
        "print(\"Recall score: \", recall_score(y_test, predictions, average = 'weighted'))\n",
        "print(\"Precision score: \", precision_score(y_test, predictions, average = 'weighted'))\n",
        "print(\"F1 score: \", f1_score(y_test, predictions, average = 'weighted'))"
      ],
      "execution_count": 6,
      "outputs": [
        {
          "output_type": "stream",
          "text": [
            "Accuracy score:  0.9563758389261745\n",
            "Recall score:  0.9563758389261745\n",
            "Precision score:  0.9579711836783575\n",
            "F1 score:  0.9564126293332378\n"
          ],
          "name": "stdout"
        }
      ]
    },
    {
      "cell_type": "code",
      "metadata": {
        "id": "CTFrkR_U9Xqp",
        "colab_type": "code",
        "colab": {
          "base_uri": "https://localhost:8080/",
          "height": 34
        },
        "outputId": "af9a185d-f28a-4335-de54-84405d830d60"
      },
      "source": [
        "print(list(set(train['Category'])))"
      ],
      "execution_count": 15,
      "outputs": [
        {
          "output_type": "stream",
          "text": [
            "['sport', 'tech', 'entertainment', 'business', 'politics']\n"
          ],
          "name": "stdout"
        }
      ]
    },
    {
      "cell_type": "markdown",
      "metadata": {
        "id": "jmLOFbWYDKl2",
        "colab_type": "text"
      },
      "source": [
        "Testing"
      ]
    },
    {
      "cell_type": "code",
      "metadata": {
        "id": "JllSNzIzBuDy",
        "colab_type": "code",
        "colab": {
          "base_uri": "https://localhost:8080/",
          "height": 34
        },
        "outputId": "b844170c-e225-49ac-973c-cc74c2bc365f"
      },
      "source": [
        "new5=['cheaper chip for mobiles a mobile phone chip which combines a modem and a computer processor on one bit of silicon instead of two could make phones cheaper and more powerful.  the specially-designed chip  developed by texas instruments  could drive down the cost of making mobiles capable of 3d gaming and 30-frame-a-second video. currently  rich multimedia features tend to be on more expensive handsets. the technology  omap-vox  is being tested by firms in europe and asia and could appear by the end of the year. texas  which makes computer chips for more than half the world s mobile phones  said it was keen to make multimedia functions like video and gaming more affordable.  we re going to drive them down into meat-and-potatoes phones that have the largest market share   said doug rasor  a marketing vice president at texas. the chip also uses much less power than conventional chips  said texas  which means less strain on mobile battery life.  more than 50 million people own a mobile in the uk  but mobile operators are keen to encourage people to move onto more sophisticated handsets that can do more. texas is keen to cash in on the third generation (3g) of mobile technology  which offers high-speed networks for video streaming and other multimedia functions. but it faces stiff competition from the likes of intel which is also looking to provide better chips for high-end mobiles.  competition to get people using 3g mobiles will grow in the next year as almost all of the uk s operators have now launched third generation networks. a recent survey by sony ericsson predicted that the number of 3g handsets sold in 2005 would double from 2004 to account for 10% of all phones sold. many consumers are still to be convinced though. a further recent survey said that only 4% of mobile owners were thinking of upgrading to 3g phones. many said they were confused about the different ways to pay for phones and the vast array of features most have onboard.  but there will be continued demand for better chips as the industry continues to develop new standards and future networks. earlier in january  ntt docomo and vodafone joined forces to develop the next generation of high-speed networks  known as  super 3g   intended to be 10 times faster than 3g services. the first stage of development is to be completed by 2007  but no date has been set for a commercial launch the newly-designed omap-vox chip set was announced ahead of the start of a major mobile industry conference  3gsm  which takes place in cannes  france this week. ']\n",
        "new5=vectorizer.transform(new5)\n",
        "p=nb.predict(new5.todense())\n",
        "predictions = {\n",
        "\t\t0 : 'Business',\n",
        "\t\t1 : 'Entertainment',\n",
        "\t\t2 : 'Politics',\n",
        "\t\t3 : 'Sports',\n",
        "\t\t4 : 'Tech'\n",
        "\t}\n",
        "print(predictions[int(p)])"
      ],
      "execution_count": 32,
      "outputs": [
        {
          "output_type": "stream",
          "text": [
            "Tech\n"
          ],
          "name": "stdout"
        }
      ]
    },
    {
      "cell_type": "code",
      "metadata": {
        "id": "ie1j_oXoB-fD",
        "colab_type": "code",
        "colab": {}
      },
      "source": [
        ""
      ],
      "execution_count": null,
      "outputs": []
    }
  ]
}